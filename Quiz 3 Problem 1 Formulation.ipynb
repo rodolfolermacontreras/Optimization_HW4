{
 "cells": [
  {
   "cell_type": "markdown",
   "metadata": {},
   "source": [
    "# Offline Section: Quiz 3 - Problem 1"
   ]
  },
  {
   "cell_type": "markdown",
   "metadata": {},
   "source": [
    "## Linear Programming Model Formulation"
   ]
  },
  {
   "cell_type": "markdown",
   "metadata": {},
   "source": [
    "The problem resembles a **transshipment problem** the most. In a transshipment problem, commodities can be transported directly from sources to destinations, and can also be shipped indirectly via one or more transshipment points where the commodity can change its mode of transportation. In this case, the beer can be shipped directly from factories to retail points or indirectly through warehouses."
   ]
  },
  {
   "cell_type": "markdown",
   "metadata": {},
   "source": [
    "![My Image](network_flow_problem_1.png)"
   ]
  },
  {
   "cell_type": "markdown",
   "metadata": {},
   "source": [
    "***Let us denote:***\n",
    "\n",
    "$N$ as the set of nodes in the network (Factories $F1, F2$, Warehouses $W1, W2$, and Retail points $R1, R2, R3, R4$)\n",
    "\n",
    "$A$ as the set of arcs in the network (pairs of nodes $(i, j)$ where goods can be shipped directly from node $i$ to node $j$)\n",
    "\n",
    "$c_{ij}$ as the unit cost of shipping goods from node $i$ to node $j$, for $(i, j) \\in A$\n",
    "\n",
    "$s_i$ as the supply or demand at node $i \\in N$. Negative for supply nodes (indicating goods are leaving), positive for demand nodes (indicating goods are arriving), and zero for transshipment nodes\n",
    "\n",
    "$L_{ij}$ as the lower bound for flow from node $i$ to node $j$, for $(i, j) \\in A$. In our problem, $L_{ij}$ = 0 for all arcs\n",
    "\n",
    "$U_{ij}$ as the upper bound for flow from node $i$ to node $j$, for $(i, j) \\in A$. Given for certain arcs and assumed to be infinite for the rest\n",
    "\n",
    "$x_{ij}$ as the decision variable representing the quantity of goods to be shipped from node $i$ to node $j$, for $(i, j) \\in A$\n",
    "\n",
    "**Objective Function:**\n",
    "\n",
    "Minimize the total cost of shipping:\n",
    "\n",
    "$$\\min \\sum_{(i, j) \\in A} c_{ij} \\cdot x_{ij}$$\n",
    "\n",
    "**Constraints:**\n",
    "\n",
    "1. `Flow Conservation Constraint:` For each node $i \\in N$, the inflow of goods to a node should at least be the outflow of goods from the node plus its supply/demand:\n",
    "\n",
    "$$\\sum_{j:(i,j) \\in A} x_{ij} - \\sum_{j:(j,i) \\in A} x_{ji} \\ge s_i, \\quad \\forall i \\in N $$\n",
    "\n",
    "2. `Upper and Lower Bounds:` The flow on each arc should respect the lower and upper bounds:\n",
    "\n",
    "$$L_{ij} \\le x_{ij} \\le U_{ij}, \\quad \\forall (i,j) \\in A $$\n",
    "\n",
    "Here $L_{ij} = 0$ (which is the **Non-Negativity Constraint**) for all $(i, j) \\in A$, and $U_{ij}$ is given for certain arcs and is assumed to be infinite for the rest.\n",
    "\n",
    "In this problem, we aim to meet the demand at retail points at minimal cost while respecting the constraints of the network."
   ]
  }
 ],
 "metadata": {
  "kernelspec": {
   "display_name": "Python 3 (ipykernel)",
   "language": "python",
   "name": "python3"
  },
  "language_info": {
   "codemirror_mode": {
    "name": "ipython",
    "version": 3
   },
   "file_extension": ".py",
   "mimetype": "text/x-python",
   "name": "python",
   "nbconvert_exporter": "python",
   "pygments_lexer": "ipython3",
   "version": "3.9.16"
  }
 },
 "nbformat": 4,
 "nbformat_minor": 2
}
