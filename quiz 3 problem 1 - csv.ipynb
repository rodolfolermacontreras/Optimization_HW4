{
 "cells": [
  {
   "cell_type": "markdown",
   "metadata": {},
   "source": [
    "<b>Quiz 3 - Problem 1</b>"
   ]
  },
  {
   "cell_type": "markdown",
   "metadata": {},
   "source": [
    "## Offline Section"
   ]
  },
  {
   "cell_type": "markdown",
   "metadata": {},
   "source": [
    "### Linear Formulation"
   ]
  },
  {
   "cell_type": "markdown",
   "metadata": {},
   "source": [
    "The problem resembles a **transshipment problem** the most. In a transshipment problem, commodities can be transported directly from sources to destinations, and can also be shipped indirectly via one or more transshipment points where the commodity can change its mode of transportation. In this case, the beer can be shipped directly from factories to retail points or indirectly through warehouses."
   ]
  },
  {
   "cell_type": "markdown",
   "metadata": {},
   "source": [
    "### Decision Variables:\n",
    "Let $X_{ij}$ denote the amount of beer shipped from node $i$ to node $j$.\n",
    "\n",
    "### Objective:\n",
    "We want to minimize the total shipping cost. So, the objective function is:\n",
    "$$\\min \\sum_{i \\in \\text{{Nodes}}} \\sum_{j \\in \\text{{Nodes}}} C_{ij}X_{ij}$$\n",
    "\n",
    "### Constraints:\n",
    "\n",
    "Flow conservation:\n",
    "For each node $i$ in Nodes, the inflow to node $i$ should be equal to the outflow from node $i$ plus its supply/demand:\n",
    "\n",
    "$$\n",
    "\\sum_{j \\in \\text{{Nodes}}} X_{ji} - \\sum_{j \\in \\text{{Nodes}}} X_{ij} = S_i, \\forall i \\in \\text{{Nodes}}\n",
    "$$\n",
    "\n",
    "Here, $S_i$ is the supply (if negative) or demand (if positive) at node $i$. \n",
    "\n",
    "Non-negativity:\n",
    "$$\n",
    "X_{ij} \\ge 0, \\forall (i,j) \\in \\text{{Arcs}}\n",
    "$$\n"
   ]
  },
  {
   "cell_type": "markdown",
   "metadata": {},
   "source": [
    "### Python"
   ]
  },
  {
   "cell_type": "code",
   "execution_count": 1,
   "metadata": {},
   "outputs": [],
   "source": [
    "# data\n",
    "\n",
    "import csv\n",
    "f = open(\"quiz 3 problem 1.csv\")\n",
    "csvfile = csv.DictReader(f, delimiter=',')\n",
    "headers = csvfile.fieldnames\n",
    "\n",
    "table = []\n",
    "for row in csvfile:\n",
    "    table.append(row)\n",
    "    \n",
    "f.close()\n",
    "\n",
    "# Create set of nodes\n",
    "Nodes = set()\n",
    "# start by adding the elements in the header (except for first and last element)\n",
    "for i in range(1,len(headers)-1):\n",
    "    Nodes.add(headers[i])\n",
    "\n",
    "# Create dictionaries \"Cost\" and \"Supply\" (for the retail nodes)\n",
    "# We can borrow the keys from \"Cost\" to define the arc set of the network.\n",
    "Cost = {}\n",
    "Capacity = {}\n",
    "Supply = {}\n",
    "for row in table:\n",
    "    val = row['from']\n",
    "    if val != 'Demand':\n",
    "        for i in Nodes:\n",
    "            if (row[i] != '-'):\n",
    "                Cost[val,i] = float(row[i])\n",
    "    else:\n",
    "        for i in Nodes:\n",
    "            if (row[i] != '-'):\n",
    "                Supply[i] = float(row[i])\n",
    "\n",
    "# Add the \"Supply\" data for the factories and complete the node set.\n",
    "for row in table:\n",
    "    val = row['from']\n",
    "    if val != 'Demand':\n",
    "        if row['Capacity'] != '-':\n",
    "            Supply[val] = -float(row['Capacity'])\n",
    "        Nodes.add(val)\n",
    "\n",
    "# Complete the \"Supply\" data for the nodes without a supply (i.e., the \n",
    "# warehouses have 0 demand/supply).\n",
    "for i in Nodes:\n",
    "    if not(i in Supply.keys()):\n",
    "        Supply[i] = 0\n",
    "    \n",
    "# Define the arc set\n",
    "Arcs = Cost.keys()\n",
    "\n",
    "Capacity = {'F1': 3200.0, 'F2': 2500.0} #This is capture in Supply but just for documentation purposes"
   ]
  },
  {
   "cell_type": "code",
   "execution_count": 2,
   "metadata": {},
   "outputs": [
    {
     "data": {
      "text/plain": [
       "{'F1', 'F2', 'R1', 'R2', 'R3', 'R4', 'W1', 'W2'}"
      ]
     },
     "execution_count": 2,
     "metadata": {},
     "output_type": "execute_result"
    }
   ],
   "source": [
    "Nodes"
   ]
  },
  {
   "cell_type": "code",
   "execution_count": 3,
   "metadata": {},
   "outputs": [
    {
     "data": {
      "text/plain": [
       "{('F1', 'R1'): 0.8,\n",
       " ('F1', 'W1'): 0.5,\n",
       " ('F1', 'W2'): 0.64,\n",
       " ('F2', 'R4'): 1.17,\n",
       " ('F2', 'W1'): 0.4,\n",
       " ('F2', 'W2'): 0.55,\n",
       " ('W1', 'R3'): 0.49,\n",
       " ('W1', 'R1'): 0.23,\n",
       " ('W1', 'R2'): 0.45,\n",
       " ('W2', 'R4'): 0.64,\n",
       " ('W2', 'R3'): 0.25,\n",
       " ('W2', 'R2'): 0.85}"
      ]
     },
     "execution_count": 3,
     "metadata": {},
     "output_type": "execute_result"
    }
   ],
   "source": [
    "Cost"
   ]
  },
  {
   "cell_type": "code",
   "execution_count": 4,
   "metadata": {},
   "outputs": [
    {
     "data": {
      "text/plain": [
       "{'F1': 3200.0, 'F2': 2500.0}"
      ]
     },
     "execution_count": 4,
     "metadata": {},
     "output_type": "execute_result"
    }
   ],
   "source": [
    "Capacity"
   ]
  },
  {
   "cell_type": "code",
   "execution_count": 5,
   "metadata": {},
   "outputs": [
    {
     "data": {
      "text/plain": [
       "{'R4': 900.0,\n",
       " 'R3': 1100.0,\n",
       " 'R1': 700.0,\n",
       " 'R2': 1800.0,\n",
       " 'F1': -3200.0,\n",
       " 'F2': -2500.0,\n",
       " 'W1': 0,\n",
       " 'W2': 0}"
      ]
     },
     "execution_count": 5,
     "metadata": {},
     "output_type": "execute_result"
    }
   ],
   "source": [
    "Supply"
   ]
  },
  {
   "cell_type": "code",
   "execution_count": 7,
   "metadata": {},
   "outputs": [],
   "source": [
    "from docplex.mp.model import Model\n",
    "mdl = Model()\n",
    "\n",
    "# Variables\n",
    "shipped = mdl.continuous_var_dict(Arcs, lb=0, name='shipped')\n",
    "\n",
    "# Objective\n",
    "mdl.minimize(mdl.sum(Cost[i, j] * shipped[i, j] for i, j in Arcs))\n",
    "\n",
    "# Flow conservation constraints\n",
    "for j in Nodes:\n",
    "    inflow = mdl.sum(shipped[i, j] for i in Nodes if (i, j) in Arcs)\n",
    "    outflow = mdl.sum(shipped[j, i] for i in Nodes if (j, i) in Arcs)\n",
    "    mdl.add_constraint(inflow - outflow == Supply[j])"
   ]
  },
  {
   "cell_type": "code",
   "execution_count": 8,
   "metadata": {},
   "outputs": [
    {
     "data": {
      "text/plain": [
       "docplex.mp.SolveDetails(time=0.015,status='infeasible')"
      ]
     },
     "execution_count": 8,
     "metadata": {},
     "output_type": "execute_result"
    }
   ],
   "source": [
    "# solve\n",
    "mdl.solve()\n",
    "mdl.get_solve_details()"
   ]
  },
  {
   "cell_type": "code",
   "execution_count": null,
   "metadata": {},
   "outputs": [],
   "source": [
    "mdl.print_solution()"
   ]
  },
  {
   "cell_type": "markdown",
   "metadata": {},
   "source": [
    "## Quiz Section"
   ]
  },
  {
   "cell_type": "code",
   "execution_count": null,
   "metadata": {},
   "outputs": [],
   "source": []
  }
 ],
 "metadata": {
  "kernelspec": {
   "display_name": "Python 3 (ipykernel)",
   "language": "python",
   "name": "python3"
  },
  "language_info": {
   "codemirror_mode": {
    "name": "ipython",
    "version": 3
   },
   "file_extension": ".py",
   "mimetype": "text/x-python",
   "name": "python",
   "nbconvert_exporter": "python",
   "pygments_lexer": "ipython3",
   "version": "3.9.16"
  }
 },
 "nbformat": 4,
 "nbformat_minor": 2
}
