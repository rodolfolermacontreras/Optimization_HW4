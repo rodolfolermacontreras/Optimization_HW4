{
 "cells": [
  {
   "cell_type": "markdown",
   "metadata": {},
   "source": [
    "# Offline Section: Quiz 3 - Problem 2"
   ]
  },
  {
   "cell_type": "markdown",
   "metadata": {},
   "source": [
    "## Linear Programming Model Formulation"
   ]
  },
  {
   "cell_type": "markdown",
   "metadata": {},
   "source": [
    "Given the problem statement and your added note, it seems this problem most resembles a combination of the **Multi-Commodity Flow Problem** and the **Shortest Path Problem**:\n",
    "\n",
    "- `Multi-Commodity Flow Problem:` This problem involves multiple commodities (two shipments in this case) being transported across the network. Each shipment is treated separately, having its own supply and demand nodes, but they share the network's capacity constraints. The objective is to optimize the flow of these commodities within the network given the constraints.\n",
    "\n",
    "- `Shortest Path Problem:` Each shipment's objective is to travel from its origin to its destination traversing the shortest path possible. This objective is embedded within the multi-commodity flow problem as part of the cost minimization, where the cost is directly proportional to the distance travelled.\n",
    "\n",
    "A **Multi-Commodity Shortest Path Problem** is therefore likely the best categorization for this problem, where we want to find the shortest paths for multiple commodities while considering the capacity constraints of the network."
   ]
  },
  {
   "cell_type": "markdown",
   "metadata": {},
   "source": [
    "![My Image](P2_Network_Completed.png)"
   ]
  },
  {
   "cell_type": "markdown",
   "metadata": {},
   "source": [
    "*Let us denote:*\n",
    "\n",
    "$N$ as the set of nodes in the network.\n",
    "\n",
    "$A$ as the set of arcs in the network.\n",
    "\n",
    "$K$ as the set of shipments $[S1, S2]$.\n",
    "\n",
    "$b_{i}^{(k)}$ as the supply of shipment $k$ at node $i \\in N$. Positive for supply nodes, negative for demand nodes, and zero for transshipment nodes.\n",
    "\n",
    "$c_{ij}$ as the distance from node $i$ to node $j$, for $(i, j) \\in A$.\n",
    "\n",
    "$x_{ij}^{(k)}$ as the decision variable representing the flow of shipment $k$ from node $i$ to node $j$, for $(i, j) \\in A$ and $k \\in K$.\n",
    "\n",
    "$u_{ij}$ as the capacity of the arc from node $i$ to node $j$, for $(i, j) \\in A$.\n",
    "\n",
    "**Objective Function:**\n",
    "\n",
    "Minimize the total distance that the `shipments` have to go thru:\n",
    "\n",
    "$$\\min \\sum_{(i, j) \\in A} c_{ij} \\cdot \\sum_{k \\in K} x_{ij}^{(k)}$$\n",
    "\n",
    "**Constraints:**\n",
    "\n",
    "1. `Flow Conservation Constraint:` \n",
    "\n",
    "$$\\sum_{j:(i,j) \\in A} x_{ij}^{(k)} - \\sum_{j:(j,i) \\in A} x_{ji}^{(k)} = b_{i}^{(k)}, \\quad \\forall i \\in N, \\quad \\forall k \\in K $$\n",
    "\n",
    "2. `Capacity Constraint:` The total flow of all commodities on each arc should not exceed its capacity:\n",
    "\n",
    "$$\\sum_{k \\in K} x_{ij}^{(k)} \\leq u_{ij}, \\quad \\forall (i,j) \\in A $$\n",
    "\n",
    "3. `Non-Negativity Constraint:` For each arc $(i, j) \\in A$ and commodity $k \\in K$, the flow of goods should be non-negative:\n",
    "\n",
    "$$x_{ij}^{(k)} \\ge 0, \\quad \\forall (i,j) \\in A, \\quad \\forall k \\in K $$"
   ]
  },
  {
   "cell_type": "markdown",
   "metadata": {},
   "source": [
    "## Python Implementation"
   ]
  },
  {
   "cell_type": "code",
   "execution_count": 1,
   "metadata": {},
   "outputs": [],
   "source": [
    "#Getting the needed data\n",
    "import csv\n",
    "f = open(\"quiz 3 problem 2.csv\")\n",
    "csvfile = csv.DictReader(f, delimiter=',')\n",
    "headers = csvfile.fieldnames\n",
    "\n",
    "table = []\n",
    "for row in csvfile:\n",
    "    table.append(row)\n",
    "    \n",
    "f.close()\n",
    "\n",
    "# Create set of Nodes.\n",
    "#Nodes = set()\n",
    "Nodes = range(1,14) #Decided to manually input this value and now the node \"P\" is node 13\n",
    "\n",
    "# Create dictionary \"Distance\" for each arc.\n",
    "# We can borrow the keys from this dictionary to define the arc set of the network.\n",
    "Distance = {}\n",
    "for row in table:\n",
    "    fromNode = int(row['From'])\n",
    "    toNode = int(row['To'])\n",
    "    Distance[(fromNode,toNode)] = float(row['Distance (miles)'])\n",
    "    #Nodes.add(fromNode)\n",
    "    #Nodes.add(toNode)\n",
    "\n",
    "Arcs_keys = Distance.keys()\n",
    "\n",
    "# Convert float to integers for Arcs\n",
    "Arcs = {(int(i), int(j)) for i, j in Distance.keys()}"
   ]
  },
  {
   "cell_type": "code",
   "execution_count": 2,
   "metadata": {},
   "outputs": [],
   "source": [
    "#Define capacity of each arc\n",
    "tunnel_brige = {(5, 8), (6, 9), (7, 10)}\n",
    "Capacity = {key: 1 if key in tunnel_brige else 100 for key in Arcs}"
   ]
  },
  {
   "cell_type": "code",
   "execution_count": 3,
   "metadata": {},
   "outputs": [],
   "source": [
    "Shipments = {'S1', 'S2'}\n",
    "Origin = { 'S1' : 1, 'S2' : 2} #This can go the other way around as well\n",
    "Destination = { 'S1' : 13, 'S2' : 13} #For practicity destination \"P\" was changed to Node 13\n",
    "Volume = { 'S1' : 1, 'S2' : 1}\n",
    "\n",
    "Supply = {}\n",
    "for i in Nodes:\n",
    "    for k in Shipments:\n",
    "        if i==Origin[k]:\n",
    "            Supply[i,k] = -Volume[k]\n",
    "        elif i==Destination[k]:\n",
    "            Supply[i,k] = Volume[k]\n",
    "        else:\n",
    "            Supply[i,k] = 0"
   ]
  },
  {
   "cell_type": "code",
   "execution_count": 4,
   "metadata": {},
   "outputs": [],
   "source": [
    "# define a set of arc/commodity pairs (useful for variables)\n",
    "ArcCommodities = {(i, j, k) for (i, j) in Arcs for k in Shipments}"
   ]
  },
  {
   "cell_type": "code",
   "execution_count": 5,
   "metadata": {},
   "outputs": [
    {
     "data": {
      "text/plain": [
       "range(1, 14)"
      ]
     },
     "execution_count": 5,
     "metadata": {},
     "output_type": "execute_result"
    }
   ],
   "source": [
    "Nodes"
   ]
  },
  {
   "cell_type": "code",
   "execution_count": 6,
   "metadata": {},
   "outputs": [
    {
     "data": {
      "text/plain": [
       "{(1, 3): 80.0,\n",
       " (2, 4): 68.0,\n",
       " (3, 4): 54.0,\n",
       " (3, 5): 94.0,\n",
       " (3, 6): 91.0,\n",
       " (4, 3): 51.0,\n",
       " (4, 6): 57.0,\n",
       " (4, 7): 116.0,\n",
       " (5, 8): 17.0,\n",
       " (6, 9): 15.0,\n",
       " (7, 10): 13.0,\n",
       " (8, 11): 71.0,\n",
       " (8, 12): 139.0,\n",
       " (9, 11): 92.0,\n",
       " (9, 12): 74.0,\n",
       " (10, 12): 83.0,\n",
       " (11, 13): 62.0,\n",
       " (12, 13): 47.0}"
      ]
     },
     "execution_count": 6,
     "metadata": {},
     "output_type": "execute_result"
    }
   ],
   "source": [
    "Distance"
   ]
  },
  {
   "cell_type": "code",
   "execution_count": 7,
   "metadata": {},
   "outputs": [
    {
     "data": {
      "text/plain": [
       "{(1, 3),\n",
       " (2, 4),\n",
       " (3, 4),\n",
       " (3, 5),\n",
       " (3, 6),\n",
       " (4, 3),\n",
       " (4, 6),\n",
       " (4, 7),\n",
       " (5, 8),\n",
       " (6, 9),\n",
       " (7, 10),\n",
       " (8, 11),\n",
       " (8, 12),\n",
       " (9, 11),\n",
       " (9, 12),\n",
       " (10, 12),\n",
       " (11, 13),\n",
       " (12, 13)}"
      ]
     },
     "execution_count": 7,
     "metadata": {},
     "output_type": "execute_result"
    }
   ],
   "source": [
    "Arcs"
   ]
  },
  {
   "cell_type": "code",
   "execution_count": 8,
   "metadata": {},
   "outputs": [
    {
     "data": {
      "text/plain": [
       "{(2, 4): 100,\n",
       " (3, 4): 100,\n",
       " (4, 3): 100,\n",
       " (5, 8): 1,\n",
       " (6, 9): 1,\n",
       " (7, 10): 1,\n",
       " (4, 6): 100,\n",
       " (9, 12): 100,\n",
       " (11, 13): 100,\n",
       " (12, 13): 100,\n",
       " (8, 12): 100,\n",
       " (10, 12): 100,\n",
       " (3, 6): 100,\n",
       " (8, 11): 100,\n",
       " (9, 11): 100,\n",
       " (1, 3): 100,\n",
       " (4, 7): 100,\n",
       " (3, 5): 100}"
      ]
     },
     "execution_count": 8,
     "metadata": {},
     "output_type": "execute_result"
    }
   ],
   "source": [
    "Capacity"
   ]
  },
  {
   "cell_type": "code",
   "execution_count": 9,
   "metadata": {},
   "outputs": [
    {
     "data": {
      "text/plain": [
       "{(1, 'S1'): -1,\n",
       " (1, 'S2'): 0,\n",
       " (2, 'S1'): 0,\n",
       " (2, 'S2'): -1,\n",
       " (3, 'S1'): 0,\n",
       " (3, 'S2'): 0,\n",
       " (4, 'S1'): 0,\n",
       " (4, 'S2'): 0,\n",
       " (5, 'S1'): 0,\n",
       " (5, 'S2'): 0,\n",
       " (6, 'S1'): 0,\n",
       " (6, 'S2'): 0,\n",
       " (7, 'S1'): 0,\n",
       " (7, 'S2'): 0,\n",
       " (8, 'S1'): 0,\n",
       " (8, 'S2'): 0,\n",
       " (9, 'S1'): 0,\n",
       " (9, 'S2'): 0,\n",
       " (10, 'S1'): 0,\n",
       " (10, 'S2'): 0,\n",
       " (11, 'S1'): 0,\n",
       " (11, 'S2'): 0,\n",
       " (12, 'S1'): 0,\n",
       " (12, 'S2'): 0,\n",
       " (13, 'S1'): 1,\n",
       " (13, 'S2'): 1}"
      ]
     },
     "execution_count": 9,
     "metadata": {},
     "output_type": "execute_result"
    }
   ],
   "source": [
    "Supply"
   ]
  },
  {
   "cell_type": "code",
   "execution_count": 10,
   "metadata": {},
   "outputs": [
    {
     "data": {
      "text/plain": [
       "{(1, 3, 'S1'),\n",
       " (1, 3, 'S2'),\n",
       " (2, 4, 'S1'),\n",
       " (2, 4, 'S2'),\n",
       " (3, 4, 'S1'),\n",
       " (3, 4, 'S2'),\n",
       " (3, 5, 'S1'),\n",
       " (3, 5, 'S2'),\n",
       " (3, 6, 'S1'),\n",
       " (3, 6, 'S2'),\n",
       " (4, 3, 'S1'),\n",
       " (4, 3, 'S2'),\n",
       " (4, 6, 'S1'),\n",
       " (4, 6, 'S2'),\n",
       " (4, 7, 'S1'),\n",
       " (4, 7, 'S2'),\n",
       " (5, 8, 'S1'),\n",
       " (5, 8, 'S2'),\n",
       " (6, 9, 'S1'),\n",
       " (6, 9, 'S2'),\n",
       " (7, 10, 'S1'),\n",
       " (7, 10, 'S2'),\n",
       " (8, 11, 'S1'),\n",
       " (8, 11, 'S2'),\n",
       " (8, 12, 'S1'),\n",
       " (8, 12, 'S2'),\n",
       " (9, 11, 'S1'),\n",
       " (9, 11, 'S2'),\n",
       " (9, 12, 'S1'),\n",
       " (9, 12, 'S2'),\n",
       " (10, 12, 'S1'),\n",
       " (10, 12, 'S2'),\n",
       " (11, 13, 'S1'),\n",
       " (11, 13, 'S2'),\n",
       " (12, 13, 'S1'),\n",
       " (12, 13, 'S2')}"
      ]
     },
     "execution_count": 10,
     "metadata": {},
     "output_type": "execute_result"
    }
   ],
   "source": [
    "ArcCommodities"
   ]
  },
  {
   "cell_type": "code",
   "execution_count": 11,
   "metadata": {},
   "outputs": [],
   "source": [
    "#Libraries\n",
    "from docplex.mp.model import Model"
   ]
  },
  {
   "cell_type": "code",
   "execution_count": 12,
   "metadata": {},
   "outputs": [],
   "source": [
    "#Instance of the model\n",
    "mdl = Model()"
   ]
  },
  {
   "cell_type": "code",
   "execution_count": 13,
   "metadata": {},
   "outputs": [],
   "source": [
    "#Decision variables\n",
    "flow = mdl.continuous_var_dict(ArcCommodities, lb=0, name='flow')"
   ]
  },
  {
   "cell_type": "code",
   "execution_count": 14,
   "metadata": {},
   "outputs": [],
   "source": [
    "#Flow balance constraints for each commodity and for each node\n",
    "for k in Shipments:\n",
    "    for j in Nodes:\n",
    "        inflow = sum(flow[i,j,k] for i in Nodes if (i,j) in Arcs)\n",
    "        outflow = sum(flow[j,i,k] for i in Nodes if (j,i) in Arcs)\n",
    "        mdl.add_constraint(inflow - outflow == Supply[j,k])"
   ]
  },
  {
   "cell_type": "code",
   "execution_count": 15,
   "metadata": {},
   "outputs": [],
   "source": [
    "#Define arc capacity constraints (over all commodities)\n",
    "for (i,j) in Arcs:\n",
    "    mdl.add_constraint(mdl.sum(flow[i,j,k] for k in Shipments) <= Capacity[i,j])"
   ]
  },
  {
   "cell_type": "code",
   "execution_count": 16,
   "metadata": {},
   "outputs": [
    {
     "data": {
      "text/plain": [
       "DecisionKPI(name=Total distance for all shipments,expr=68flow_2_4_S1+71flow_8_11_S2+51flow_4_3_S1+68flow_2_4_S2+51flow_..)"
      ]
     },
     "execution_count": 16,
     "metadata": {},
     "output_type": "execute_result"
    }
   ],
   "source": [
    "#KPIs\n",
    "for k in Shipments:\n",
    "    mdl.add_kpi(mdl.sum(Distance[i,j] * flow[i,j,k] for (i,j) in Arcs if (i,j,k) in ArcCommodities), f\"Total distance for {k}\")\n",
    "\n",
    "mdl.add_kpi(mdl.sum(Distance[i,j] * mdl.sum(flow[i,j,k] for k in Shipments) for (i,j) in Arcs), \"Total distance for all shipments\")"
   ]
  },
  {
   "cell_type": "code",
   "execution_count": 17,
   "metadata": {},
   "outputs": [
    {
     "data": {
      "text/plain": [
       "docplex.mp.SolveDetails(time=0,status='optimal')"
      ]
     },
     "execution_count": 17,
     "metadata": {},
     "output_type": "execute_result"
    }
   ],
   "source": [
    "#Solve\n",
    "mdl.solve()\n",
    "mdl.get_solve_details()"
   ]
  },
  {
   "cell_type": "code",
   "execution_count": 18,
   "metadata": {},
   "outputs": [
    {
     "name": "stdout",
     "output_type": "stream",
     "text": [
      "status: OPTIMAL_SOLUTION(2)\n",
      "flow_2_4_S2=1.000\n",
      "flow_11_13_S1=1.000\n",
      "flow_6_9_S1=1.000\n",
      "flow_1_3_S1=1.000\n",
      "flow_4_7_S2=1.000\n",
      "flow_10_12_S2=1.000\n",
      "flow_4_6_S1=1.000\n",
      "flow_3_4_S1=1.000\n",
      "flow_12_13_S2=1.000\n",
      "flow_7_10_S2=1.000\n",
      "flow_9_11_S1=1.000\n"
     ]
    }
   ],
   "source": [
    "#Solution\n",
    "mdl.print_solution()"
   ]
  },
  {
   "cell_type": "code",
   "execution_count": 21,
   "metadata": {},
   "outputs": [
    {
     "name": "stdout",
     "output_type": "stream",
     "text": [
      "*  KPI: Total distance for S1            = 360.000\n",
      "*  KPI: Total distance for S2            = 327.000\n",
      "*  KPI: Total distance for all shipments = 687.000\n"
     ]
    }
   ],
   "source": [
    "#Print the KPIs\n",
    "mdl.report_kpis()"
   ]
  },
  {
   "cell_type": "code",
   "execution_count": 20,
   "metadata": {},
   "outputs": [
    {
     "data": {
      "image/png": "[encoded data removed]",
      "text/plain": [
       "<Figure size 800x400 with 1 Axes>"
      ]
     },
     "metadata": {},
     "output_type": "display_data"
    }
   ],
   "source": [
    "#Plot for solution:\n",
    "import networkx as nx\n",
    "import matplotlib.pyplot as plt\n",
    "\n",
    "# Define the nodes and their supply/demand\n",
    "nodes = [str(i) for i in Nodes]\n",
    "\n",
    "# Define the arcs (i, j), and their capacities\n",
    "arcs_capacity = { (str(i), str(j)): Capacity[(i,j)] for i, j in Arcs}\n",
    "\n",
    "flows_shipment1 = {('1', '3'), ('3', '4'), ('4', '7'), ('7', '10'), ('10', '12'), ('12', '13')}\n",
    "flows_shipment2 = {('2', '4'), ('4', '6'), ('6', '9'), ('9', '11'), ('11', '13')}\n",
    "\n",
    "# Create the graph and add nodes and arcs\n",
    "G = nx.DiGraph()\n",
    "G.add_nodes_from(nodes)\n",
    "for arc, cap in arcs_capacity.items():\n",
    "    G.add_edge(arc[0], arc[1], capacity=cap)\n",
    "\n",
    "# Add flow information to the edges for shipment 1 and shipment 2\n",
    "for arc in flows_shipment1:\n",
    "    G[arc[0]][arc[1]]['flow1'] = 1\n",
    "\n",
    "for arc in flows_shipment2:\n",
    "    G[arc[0]][arc[1]]['flow2'] = 1\n",
    "\n",
    "# Position nodes in layers\n",
    "pos = {'1': (0, 1), '2': (0, 0), '3': (1, 1), '4': (1, 0), \n",
    "       '5': (2, 1.5), '6': (2, 0.5), '7': (2, -0.5), '8': (3, 1.5),\n",
    "       '9': (3, 0.5), '10': (3, -0.5), '11': (4, 0.5), '12': (4, -0.5), '13': (5, 0)}\n",
    "\n",
    "# Draw the network\n",
    "plt.figure(figsize=(8, 4))\n",
    "\n",
    "# Nodes\n",
    "nx.draw_networkx_nodes(G, pos, node_size=500)\n",
    "\n",
    "# Edges with flow information\n",
    "edges_flow1 = [(u, v) for u, v, d in G.edges(data=True) if d.get('flow1', 0) > 0]\n",
    "edges_flow2 = [(u, v) for u, v, d in G.edges(data=True) if d.get('flow2', 0) > 0]\n",
    "edges_no_flow = [(u, v) for u, v, d in G.edges(data=True) if d.get('flow1', 0) == 0 and d.get('flow2', 0) == 0]\n",
    "\n",
    "nx.draw_networkx_edges(G, pos, edgelist=edges_no_flow, node_size=500, edge_color='gray', arrowsize=20)\n",
    "nx.draw_networkx_edges(G, pos, edgelist=edges_flow1, node_size=500, edge_color='red', arrowstyle='-|>', arrowsize=15)\n",
    "nx.draw_networkx_edges(G, pos, edgelist=edges_flow2, node_size=500, edge_color='purple', arrowstyle='-|>', arrowsize=15)\n",
    "\n",
    "# Node labels\n",
    "nx.draw_networkx_labels(G, pos)\n",
    "\n",
    "plt.title('Network Flow Problem')\n",
    "plt.tight_layout()\n",
    "plt.show()"
   ]
  },
  {
   "cell_type": "markdown",
   "metadata": {},
   "source": [
    "# Quiz Section"
   ]
  },
  {
   "cell_type": "code",
   "execution_count": null,
   "metadata": {},
   "outputs": [],
   "source": []
  }
 ],
 "metadata": {
  "kernelspec": {
   "display_name": "Python 3 (ipykernel)",
   "language": "python",
   "name": "python3"
  },
  "language_info": {
   "codemirror_mode": {
    "name": "ipython",
    "version": 3
   },
   "file_extension": ".py",
   "mimetype": "text/x-python",
   "name": "python",
   "nbconvert_exporter": "python",
   "pygments_lexer": "ipython3",
   "version": "3.9.16"
  }
 },
 "nbformat": 4,
 "nbformat_minor": 2
}
