{
 "cells": [
  {
   "cell_type": "markdown",
   "metadata": {},
   "source": [
    "# Offline Section: Quiz 3 - Problem 2"
   ]
  },
  {
   "cell_type": "markdown",
   "metadata": {},
   "source": [
    "## Linear Programming Model Formulation"
   ]
  },
  {
   "cell_type": "markdown",
   "metadata": {},
   "source": [
    "Given the problem statement and your added note, it seems this problem most resembles a combination of the **Multi-Commodity Flow Problem** and the **Shortest Path Problem**:\n",
    "\n",
    "- `Multi-Commodity Flow Problem:` This problem involves multiple commodities (two shipments in this case) being transported across the network. Each shipment is treated separately, having its own supply and demand nodes, but they share the network's capacity constraints. The objective is to optimize the flow of these commodities within the network given the constraints.\n",
    "\n",
    "- `Shortest Path Problem:` Each shipment's objective is to travel from its origin to its destination traversing the shortest path possible. This objective is embedded within the multi-commodity flow problem as part of the cost minimization, where the cost is directly proportional to the distance travelled.\n",
    "\n",
    "A **Multi-Commodity Shortest Path Problem** is therefore likely the best categorization for this problem, where we want to find the shortest paths for multiple commodities while considering the capacity constraints of the network."
   ]
  },
  {
   "cell_type": "markdown",
   "metadata": {},
   "source": [
    "![My Image](P2_Network_Completed.png)"
   ]
  },
  {
   "cell_type": "markdown",
   "metadata": {},
   "source": [
    "*Let us denote:*\n",
    "\n",
    "$N$ as the set of nodes in the network.\n",
    "\n",
    "$A$ as the set of arcs in the network.\n",
    "\n",
    "$K$ as the set of shipments $[S1, S2]$.\n",
    "\n",
    "$b_{i}^{(k)}$ as the supply of shipment $k$ at node $i \\in N$. Positive for supply nodes, negative for demand nodes, and zero for transshipment nodes.\n",
    "\n",
    "$c_{ij}$ as the distance from node $i$ to node $j$, for $(i, j) \\in A$.\n",
    "\n",
    "$x_{ij}^{(k)}$ as the decision variable representing the flow of shipment $k$ from node $i$ to node $j$, for $(i, j) \\in A$ and $k \\in K$.\n",
    "\n",
    "$u_{ij}$ as the capacity of the arc from node $i$ to node $j$, for $(i, j) \\in A$.\n",
    "\n",
    "**Objective Function:**\n",
    "\n",
    "Minimize the total distance that the `shipments` have to go thru:\n",
    "\n",
    "$$\\min \\sum_{(i, j) \\in A} c_{ij} \\cdot \\sum_{k \\in K} x_{ij}^{(k)}$$\n",
    "\n",
    "**Constraints:**\n",
    "\n",
    "1. `Flow Conservation Constraint:` \n",
    "\n",
    "$$\\sum_{j:(i,j) \\in A} x_{ij}^{(k)} - \\sum_{j:(j,i) \\in A} x_{ji}^{(k)} = b_{i}^{(k)}, \\quad \\forall i \\in N, \\quad \\forall k \\in K $$\n",
    "\n",
    "2. `Capacity Constraint:` The total flow of all commodities on each arc should not exceed its capacity:\n",
    "\n",
    "$$\\sum_{k \\in K} x_{ij}^{(k)} \\leq u_{ij}, \\quad \\forall (i,j) \\in A $$\n",
    "\n",
    "3. `Non-Negativity Constraint:` For each arc $(i, j) \\in A$ and commodity $k \\in K$, the flow of goods should be non-negative:\n",
    "\n",
    "$$x_{ij}^{(k)} \\ge 0, \\quad \\forall (i,j) \\in A, \\quad \\forall k \\in K $$"
   ]
  }
 ],
 "metadata": {
  "kernelspec": {
   "display_name": "Python 3 (ipykernel)",
   "language": "python",
   "name": "python3"
  },
  "language_info": {
   "codemirror_mode": {
    "name": "ipython",
    "version": 3
   },
   "file_extension": ".py",
   "mimetype": "text/x-python",
   "name": "python",
   "nbconvert_exporter": "python",
   "pygments_lexer": "ipython3",
   "version": "3.9.16"
  }
 },
 "nbformat": 4,
 "nbformat_minor": 2
}
